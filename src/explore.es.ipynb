{
    "cells": [
        {
            "cell_type": "markdown",
            "metadata": {},
            "source": [
                "# Explora aquí\n",
                "\n",
                "Se recomienda utilizar este cuaderno con fines de exploración."
            ]
        },
        {
            "cell_type": "code",
            "execution_count": 7,
            "metadata": {},
            "outputs": [],
            "source": [
                "import os\n",
                "from bs4 import BeautifulSoup\n",
                "import requests\n",
                "import time\n",
                "import sqlite3\n",
                "import matplotlib.pyplot as plt\n",
                "import seaborn as sns\n",
                "import pandas as pd\n",
                "\n",
                "\n"
            ]
        },
        {
            "cell_type": "code",
            "execution_count": 8,
            "metadata": {},
            "outputs": [
                {
                    "name": "stdout",
                    "output_type": "stream",
                    "text": [
                        "Defaulting to user installation because normal site-packages is not writeable\n",
                        "Requirement already satisfied: pandas in /home/vscode/.local/lib/python3.11/site-packages (2.3.3)\n",
                        "Requirement already satisfied: requests in /home/vscode/.local/lib/python3.11/site-packages (2.27.1)\n",
                        "Requirement already satisfied: lxml in /home/vscode/.local/lib/python3.11/site-packages (6.0.2)\n",
                        "Requirement already satisfied: numpy>=1.23.2 in /home/vscode/.local/lib/python3.11/site-packages (from pandas) (2.2.6)\n",
                        "Requirement already satisfied: python-dateutil>=2.8.2 in /home/vscode/.local/lib/python3.11/site-packages (from pandas) (2.9.0.post0)\n",
                        "Requirement already satisfied: pytz>=2020.1 in /home/vscode/.local/lib/python3.11/site-packages (from pandas) (2025.2)\n",
                        "Requirement already satisfied: tzdata>=2022.7 in /home/vscode/.local/lib/python3.11/site-packages (from pandas) (2025.2)\n",
                        "Requirement already satisfied: urllib3<1.27,>=1.21.1 in /home/vscode/.local/lib/python3.11/site-packages (from requests) (1.26.20)\n",
                        "Requirement already satisfied: certifi>=2017.4.17 in /home/vscode/.local/lib/python3.11/site-packages (from requests) (2025.10.5)\n",
                        "Requirement already satisfied: charset-normalizer~=2.0.0 in /home/vscode/.local/lib/python3.11/site-packages (from requests) (2.0.12)\n",
                        "Requirement already satisfied: idna<4,>=2.5 in /home/vscode/.local/lib/python3.11/site-packages (from requests) (3.11)\n",
                        "Requirement already satisfied: six>=1.5 in /home/vscode/.local/lib/python3.11/site-packages (from python-dateutil>=2.8.2->pandas) (1.17.0)\n",
                        "\n",
                        "\u001b[1m[\u001b[0m\u001b[34;49mnotice\u001b[0m\u001b[1;39;49m]\u001b[0m\u001b[39;49m A new release of pip is available: \u001b[0m\u001b[31;49m23.1.2\u001b[0m\u001b[39;49m -> \u001b[0m\u001b[32;49m25.2\u001b[0m\n",
                        "\u001b[1m[\u001b[0m\u001b[34;49mnotice\u001b[0m\u001b[1;39;49m]\u001b[0m\u001b[39;49m To update, run: \u001b[0m\u001b[32;49mpip install --upgrade pip\u001b[0m\n",
                        "Note: you may need to restart the kernel to use updated packages.\n"
                    ]
                }
            ],
            "source": [
                "pip install pandas requests lxml\n"
            ]
        },
        {
            "cell_type": "code",
            "execution_count": 9,
            "metadata": {},
            "outputs": [
                {
                    "name": "stdout",
                    "output_type": "stream",
                    "text": [
                        "200\n"
                    ]
                }
            ],
            "source": [
                "\n",
                "url = \"https://en.wikipedia.org/wiki/List_of_most-streamed_songs_on_Spotify\" # convertir la URL en una variable\n",
                "headers = {\"User-Agent\": \"Mozilla/5.0\"} # esto se hace para parecer un navegador real y evitar bloqueos\n",
                "response = requests.get(url, headers=headers) # contiene toda la respuesta del servidor a tu petición HTTP en un formato de objeto\n",
                "print(response.status_code) #es una forma de verificar que la petición fue exitosa (200)\n",
                "response.raise_for_status() # detiene el programa si hubo un error\n",
                "html = response.text # # convierte la respuesta en texto HTML en string"
            ]
        },
        {
            "cell_type": "code",
            "execution_count": 10,
            "metadata": {},
            "outputs": [
                {
                    "name": "stdout",
                    "output_type": "stream",
                    "text": [
                        "Tabla cargada. Primeras 5 filas:\n",
                        "  Rank                 Song                 Artist(s) Streams (billions)  \\\n",
                        "0    1    \"Blinding Lights\"                The Weeknd              5.086   \n",
                        "1    2       \"Shape of You\"                Ed Sheeran              4.603   \n",
                        "2    3            \"Starboy\"  The Weeknd and Daft Punk              4.155   \n",
                        "3    4    \"Sweater Weather\"         The Neighbourhood              4.105   \n",
                        "4    5  \"Someone You Loved\"             Lewis Capaldi              4.095   \n",
                        "\n",
                        "        Release date Ref.  \n",
                        "0   29 November 2019  [1]  \n",
                        "1     6 January 2017  [2]  \n",
                        "2  21 September 2016  [3]  \n",
                        "3    3 December 2012  [4]  \n",
                        "4    8 November 2018  [5]  \n"
                    ]
                },
                {
                    "name": "stderr",
                    "output_type": "stream",
                    "text": [
                        "/tmp/ipykernel_688/3281980235.py:6: FutureWarning: Passing literal html to 'read_html' is deprecated and will be removed in a future version. To read from a literal string, wrap it in a 'StringIO' object.\n",
                        "  df = pd.read_html(str(table))[0] # Convertimos la tabla a DataFrame de pandas\n"
                    ]
                }
            ],
            "source": [
                "# convertimos el html en una sopa\n",
                "soup = BeautifulSoup(html, \"lxml\") # lo convertimos a sopa para poder recorrerlo más fácilmente.\n",
                "# Usamos lxml como una buena practica porque hay paginas que no se pueden parsear(recorrer) bien con el parser por defecto de python\n",
                "table = soup.find(\"table\", {\"class\": \"wikitable\"}) # creamos una variable y buscamos en la pagina por su clase CSS la tabla con la que queremos trabajar, esto te devuelve un objeto.\n",
                "\n",
                "df = pd.read_html(str(table))[0] # Convertimos la tabla a DataFrame de pandas\n",
                "print(\"Tabla cargada. Primeras 5 filas:\")\n",
                "print(df.head())\n"
            ]
        },
        {
            "cell_type": "code",
            "execution_count": 18,
            "metadata": {},
            "outputs": [
                {
                    "name": "stdout",
                    "output_type": "stream",
                    "text": [
                        "\n",
                        "Información del DataFrame:\n",
                        "<class 'pandas.core.frame.DataFrame'>\n",
                        "RangeIndex: 101 entries, 0 to 100\n",
                        "Data columns (total 6 columns):\n",
                        " #   Column              Non-Null Count  Dtype \n",
                        "---  ------              --------------  ----- \n",
                        " 0   Rank                101 non-null    object\n",
                        " 1   Song                101 non-null    object\n",
                        " 2   Artist(s)           101 non-null    object\n",
                        " 3   Streams (billions)  101 non-null    object\n",
                        " 4   Release date        101 non-null    object\n",
                        " 5   Ref.                98 non-null     object\n",
                        "dtypes: object(6)\n",
                        "memory usage: 4.9+ KB\n",
                        "None\n",
                        "\n",
                        "descripción estadística:\n",
                        "       Rank               Song   Artist(s) Streams (billions)  Release date  \\\n",
                        "count   101                101         101                101           101   \n",
                        "unique  101                101          78                 94           100   \n",
                        "top       1  \"Blinding Lights\"  The Weeknd              3.145  20 June 2014   \n",
                        "freq      1                  1           4                  2             2   \n",
                        "\n",
                        "       Ref.  \n",
                        "count    98  \n",
                        "unique   98  \n",
                        "top     [1]  \n",
                        "freq      1  \n",
                        "\n",
                        "nombres de columnas:\n",
                        "['Rank', 'Song', 'Artist(s)', 'Streams (billions)', 'Release date', 'Ref.']\n"
                    ]
                }
            ],
            "source": [
                "# Inspeccionamos el DataFrame\n",
                "print(\"\\nInformación del DataFrame:\")\n",
                "print(df.info())\n",
                "\n",
                "print(\"\\ndescripción estadística:\")\n",
                "print(df.describe())\n",
                "\n",
                "print(\"\\nnombres de columnas:\") # esto es útil para saber si hay espacios o caracteres especiales en los nombres de las columnas\n",
                "print(df.columns.tolist()) # el toList() es solo para convertir el resultado en una lista más legible. \n",
                "# Puedo mirar los nombres de las columnas también con solo df.columns\n"
            ]
        },
        {
            "cell_type": "code",
            "execution_count": null,
            "metadata": {},
            "outputs": [
                {
                    "name": "stdout",
                    "output_type": "stream",
                    "text": [
                        "['rank', 'song', 'artist(s)', 'streams_(billions)', 'release_date', 'ref.']\n"
                    ]
                }
            ],
            "source": [
                "# Generamos una copia del DataFrame original\n",
                "df_clean = df.copy()\n",
                "# Eliminamos filas con valores vacios por buena practica en limpieza de datos,\n",
                "# ya que en este caso no hay filas completamente vacias\n",
                "df_clean.dropna(how = 'all', inplace=True)\n",
                "# Normalizamos nombres de columnas: quitar espacios al principio/final, reemplazar espacios por underscore \n",
                "# y poner todo en minúsculas\n",
                "df_clean.columns = [col.strip().lower().replace(\" \", \"_\") for col in df_clean.columns] # strip() quita espacios al principio y final, \n",
                "# lower() pone todo en minúsculas, replace() reemplaza espacios por underscores\n",
                "print(df_clean.columns.tolist())\n",
                "\n"
            ]
        }
    ],
    "metadata": {
        "kernelspec": {
            "display_name": "Python 3",
            "language": "python",
            "name": "python3"
        },
        "language_info": {
            "codemirror_mode": {
                "name": "ipython",
                "version": 3
            },
            "file_extension": ".py",
            "mimetype": "text/x-python",
            "name": "python",
            "nbconvert_exporter": "python",
            "pygments_lexer": "ipython3",
            "version": "3.11.4"
        },
        "orig_nbformat": 4
    },
    "nbformat": 4,
    "nbformat_minor": 2
}
