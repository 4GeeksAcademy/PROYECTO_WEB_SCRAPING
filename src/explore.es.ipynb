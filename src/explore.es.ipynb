{
    "cells": [
        {
            "cell_type": "markdown",
            "metadata": {},
            "source": [
                "# Explora aquí\n",
                "\n",
                "Se recomienda utilizar este cuaderno con fines de exploración."
            ]
        },
        {
            "cell_type": "code",
            "execution_count": 72,
            "metadata": {},
            "outputs": [],
            "source": [
                "import os\n",
                "from bs4 import BeautifulSoup\n",
                "import requests\n",
                "import time\n",
                "import sqlite3\n",
                "import matplotlib.pyplot as plt\n",
                "import seaborn as sns\n",
                "import pandas as pd\n",
                "\n",
                "\n"
            ]
        },
        {
            "cell_type": "code",
            "execution_count": 73,
            "metadata": {},
            "outputs": [
                {
                    "name": "stdout",
                    "output_type": "stream",
                    "text": [
                        "Defaulting to user installation because normal site-packages is not writeable\n",
                        "Requirement already satisfied: pandas in /home/vscode/.local/lib/python3.11/site-packages (2.3.3)\n",
                        "Requirement already satisfied: requests in /home/vscode/.local/lib/python3.11/site-packages (2.27.1)\n",
                        "Requirement already satisfied: lxml in /home/vscode/.local/lib/python3.11/site-packages (6.0.2)\n",
                        "Requirement already satisfied: numpy>=1.23.2 in /home/vscode/.local/lib/python3.11/site-packages (from pandas) (2.2.6)\n",
                        "Requirement already satisfied: python-dateutil>=2.8.2 in /home/vscode/.local/lib/python3.11/site-packages (from pandas) (2.9.0.post0)\n",
                        "Requirement already satisfied: pytz>=2020.1 in /home/vscode/.local/lib/python3.11/site-packages (from pandas) (2025.2)\n",
                        "Requirement already satisfied: tzdata>=2022.7 in /home/vscode/.local/lib/python3.11/site-packages (from pandas) (2025.2)\n",
                        "Requirement already satisfied: urllib3<1.27,>=1.21.1 in /home/vscode/.local/lib/python3.11/site-packages (from requests) (1.26.20)\n",
                        "Requirement already satisfied: certifi>=2017.4.17 in /home/vscode/.local/lib/python3.11/site-packages (from requests) (2025.10.5)\n",
                        "Requirement already satisfied: charset-normalizer~=2.0.0 in /home/vscode/.local/lib/python3.11/site-packages (from requests) (2.0.12)\n",
                        "Requirement already satisfied: idna<4,>=2.5 in /home/vscode/.local/lib/python3.11/site-packages (from requests) (3.11)\n",
                        "Requirement already satisfied: six>=1.5 in /home/vscode/.local/lib/python3.11/site-packages (from python-dateutil>=2.8.2->pandas) (1.17.0)\n",
                        "\n",
                        "\u001b[1m[\u001b[0m\u001b[34;49mnotice\u001b[0m\u001b[1;39;49m]\u001b[0m\u001b[39;49m A new release of pip is available: \u001b[0m\u001b[31;49m23.1.2\u001b[0m\u001b[39;49m -> \u001b[0m\u001b[32;49m25.2\u001b[0m\n",
                        "\u001b[1m[\u001b[0m\u001b[34;49mnotice\u001b[0m\u001b[1;39;49m]\u001b[0m\u001b[39;49m To update, run: \u001b[0m\u001b[32;49mpip install --upgrade pip\u001b[0m\n",
                        "Note: you may need to restart the kernel to use updated packages.\n"
                    ]
                }
            ],
            "source": [
                "pip install pandas requests lxml\n"
            ]
        },
        {
            "cell_type": "code",
            "execution_count": 74,
            "metadata": {},
            "outputs": [
                {
                    "name": "stdout",
                    "output_type": "stream",
                    "text": [
                        "200\n"
                    ]
                }
            ],
            "source": [
                "\n",
                "url = \"https://en.wikipedia.org/wiki/List_of_most-streamed_songs_on_Spotify\" # convertir la URL en una variable\n",
                "headers = {\"User-Agent\": \"Mozilla/5.0\"} # esto se hace para parecer un navegador real y evitar bloqueos\n",
                "response = requests.get(url, headers=headers) # contiene toda la respuesta del servidor a tu petición HTTP en un formato de objeto\n",
                "print(response.status_code) #es una forma de verificar que la petición fue exitosa (200)\n",
                "response.raise_for_status() # detiene el programa si hubo un error\n",
                "html = response.text # # convierte la respuesta en texto HTML en string"
            ]
        },
        {
            "cell_type": "code",
            "execution_count": 75,
            "metadata": {},
            "outputs": [
                {
                    "name": "stdout",
                    "output_type": "stream",
                    "text": [
                        "Tabla cargada. Primeras 5 filas:\n",
                        "  Rank                 Song                 Artist(s) Streams (billions)  \\\n",
                        "0    1    \"Blinding Lights\"                The Weeknd              5.086   \n",
                        "1    2       \"Shape of You\"                Ed Sheeran              4.603   \n",
                        "2    3            \"Starboy\"  The Weeknd and Daft Punk              4.155   \n",
                        "3    4    \"Sweater Weather\"         The Neighbourhood              4.105   \n",
                        "4    5  \"Someone You Loved\"             Lewis Capaldi              4.095   \n",
                        "\n",
                        "        Release date Ref.  \n",
                        "0   29 November 2019  [1]  \n",
                        "1     6 January 2017  [2]  \n",
                        "2  21 September 2016  [3]  \n",
                        "3    3 December 2012  [4]  \n",
                        "4    8 November 2018  [5]  \n"
                    ]
                },
                {
                    "name": "stderr",
                    "output_type": "stream",
                    "text": [
                        "/tmp/ipykernel_816/3281980235.py:6: FutureWarning: Passing literal html to 'read_html' is deprecated and will be removed in a future version. To read from a literal string, wrap it in a 'StringIO' object.\n",
                        "  df = pd.read_html(str(table))[0] # Convertimos la tabla a DataFrame de pandas\n"
                    ]
                }
            ],
            "source": [
                "# convertimos el html en una sopa\n",
                "soup = BeautifulSoup(html, \"lxml\") # lo convertimos a sopa para poder recorrerlo más fácilmente.\n",
                "# Usamos lxml como una buena practica porque hay paginas que no se pueden parsear(recorrer) bien con el parser por defecto de python\n",
                "table = soup.find(\"table\", {\"class\": \"wikitable\"}) # creamos una variable y buscamos en la pagina por su clase CSS la tabla con la que queremos trabajar, esto te devuelve un objeto.\n",
                "\n",
                "df = pd.read_html(str(table))[0] # Convertimos la tabla a DataFrame de pandas\n",
                "print(\"Tabla cargada. Primeras 5 filas:\")\n",
                "print(df.head())\n"
            ]
        },
        {
            "cell_type": "code",
            "execution_count": 76,
            "metadata": {},
            "outputs": [
                {
                    "name": "stdout",
                    "output_type": "stream",
                    "text": [
                        "\n",
                        "Información del DataFrame:\n",
                        "<class 'pandas.core.frame.DataFrame'>\n",
                        "RangeIndex: 101 entries, 0 to 100\n",
                        "Data columns (total 6 columns):\n",
                        " #   Column              Non-Null Count  Dtype \n",
                        "---  ------              --------------  ----- \n",
                        " 0   Rank                101 non-null    object\n",
                        " 1   Song                101 non-null    object\n",
                        " 2   Artist(s)           101 non-null    object\n",
                        " 3   Streams (billions)  101 non-null    object\n",
                        " 4   Release date        101 non-null    object\n",
                        " 5   Ref.                98 non-null     object\n",
                        "dtypes: object(6)\n",
                        "memory usage: 4.9+ KB\n",
                        "None\n",
                        "\n",
                        "descripción estadística:\n",
                        "       Rank               Song   Artist(s) Streams (billions)  Release date  \\\n",
                        "count   101                101         101                101           101   \n",
                        "unique  101                101          78                 94           100   \n",
                        "top       1  \"Blinding Lights\"  The Weeknd              3.145  20 June 2014   \n",
                        "freq      1                  1           4                  2             2   \n",
                        "\n",
                        "       Ref.  \n",
                        "count    98  \n",
                        "unique   98  \n",
                        "top     [1]  \n",
                        "freq      1  \n",
                        "\n",
                        "nombres de columnas:\n",
                        "['Rank', 'Song', 'Artist(s)', 'Streams (billions)', 'Release date', 'Ref.']\n"
                    ]
                }
            ],
            "source": [
                "# Inspeccionamos el DataFrame\n",
                "print(\"\\nInformación del DataFrame:\")\n",
                "print(df.info())\n",
                "\n",
                "print(\"\\ndescripción estadística:\")\n",
                "print(df.describe())\n",
                "\n",
                "print(\"\\nnombres de columnas:\") # esto es útil para saber si hay espacios o caracteres especiales en los nombres de las columnas\n",
                "print(df.columns.tolist()) # el toList() es solo para convertir el resultado en una lista más legible. \n",
                "# Puedo mirar los nombres de las columnas también con solo df.columns\n"
            ]
        },
        {
            "cell_type": "code",
            "execution_count": 77,
            "metadata": {},
            "outputs": [
                {
                    "name": "stdout",
                    "output_type": "stream",
                    "text": [
                        "\n",
                        "Nombres de columnas después de la limpieza:\n",
                        "['rank', 'song', 'artist(s)', 'streams_(billions)', 'release_date', 'ref.']\n",
                        "\n",
                        "Información del DataFrame limpio:\n",
                        "<class 'pandas.core.frame.DataFrame'>\n",
                        "RangeIndex: 101 entries, 0 to 100\n",
                        "Data columns (total 6 columns):\n",
                        " #   Column              Non-Null Count  Dtype \n",
                        "---  ------              --------------  ----- \n",
                        " 0   rank                101 non-null    object\n",
                        " 1   song                101 non-null    object\n",
                        " 2   artist(s)           101 non-null    object\n",
                        " 3   streams_(billions)  101 non-null    object\n",
                        " 4   release_date        101 non-null    object\n",
                        " 5   ref.                98 non-null     object\n",
                        "dtypes: object(6)\n",
                        "memory usage: 4.9+ KB\n",
                        "None\n"
                    ]
                }
            ],
            "source": [
                "# Generamos una copia del DataFrame original\n",
                "df_clean = df.copy()\n",
                "# Eliminamos filas con valores vacios por buena practica en limpieza de datos,\n",
                "# ya que en este caso no hay filas completamente vacias\n",
                "df_clean.dropna(how = 'all', inplace=True)\n",
                "# Normalizamos nombres de columnas: quitar espacios al principio/final, reemplazar espacios por underscore \n",
                "# y poner todo en minúsculas\n",
                "df_clean.columns = [col.strip().lower().replace(\" \", \"_\") for col in df_clean.columns] \n",
                "# strip() quita espacios al principio y final, \n",
                "# lower() pone todo en minúsculas, replace() reemplaza espacios por underscores\n",
                "print(\"\\nNombres de columnas después de la limpieza:\")\n",
                "print(df_clean.columns.tolist())\n",
                "print(\"\\nInformación del DataFrame limpio:\")\n",
                "print(df_clean.info())\n",
                "\n"
            ]
        },
        {
            "cell_type": "code",
            "execution_count": 78,
            "metadata": {},
            "outputs": [
                {
                    "name": "stdout",
                    "output_type": "stream",
                    "text": [
                        "\n",
                        "Información del DataFrame limpio:\n",
                        "<class 'pandas.core.frame.DataFrame'>\n",
                        "Index: 100 entries, 0 to 99\n",
                        "Data columns (total 6 columns):\n",
                        " #   Column              Non-Null Count  Dtype         \n",
                        "---  ------              --------------  -----         \n",
                        " 0   rank                100 non-null    object        \n",
                        " 1   song                100 non-null    object        \n",
                        " 2   artist(s)           100 non-null    object        \n",
                        " 3   streams_(billions)  100 non-null    float64       \n",
                        " 4   release_date        100 non-null    datetime64[ns]\n",
                        " 5   ref.                97 non-null     object        \n",
                        "dtypes: datetime64[ns](1), float64(1), object(4)\n",
                        "memory usage: 5.5+ KB\n",
                        "None\n",
                        "\n",
                        "Primeras 5 filas del DataFrame limpio:\n",
                        "  rank                 song                 artist(s)  streams_(billions)  \\\n",
                        "0    1    \"blinding lights\"                the weeknd               5.086   \n",
                        "1    2       \"shape of you\"                ed sheeran               4.603   \n",
                        "2    3            \"starboy\"  the weeknd and daft punk               4.155   \n",
                        "3    4    \"sweater weather\"         the neighbourhood               4.105   \n",
                        "4    5  \"someone you loved\"             lewis capaldi               4.095   \n",
                        "\n",
                        "  release_date ref.  \n",
                        "0   2019-11-29  [1]  \n",
                        "1   2017-01-06  [2]  \n",
                        "2   2016-09-21  [3]  \n",
                        "3   2012-12-03  [4]  \n",
                        "4   2018-11-08  [5]  \n"
                    ]
                }
            ],
            "source": [
                "# Limpiamos datos en columnas específicas\n",
                "df_clean[\"song\"] = df_clean[\"song\"].str.lower().replace(r\"\\[.*?\\]\", \"\", regex=True)\n",
                "df_clean[\"artist(s)\"] = df_clean[\"artist(s)\"].str.lower().replace(r\"\\[.*?\\]\", \"\", regex=True)\n",
                "\n",
                "df_clean = df_clean[df_clean[\"streams_(billions)\"].astype(str).str.contains(r\"^\\d+(?:\\.\\d+)?$\", na=False)]\n",
                "# Convertimos Streams a números flotantes\n",
                "df_clean[\"streams_(billions)\"] = df_clean[\"streams_(billions)\"].astype(float)\n",
                "\n",
                "# Convertimos fechas a datetime\n",
                "df_clean[\"release_date\"] = pd.to_datetime(df_clean[\"release_date\"], errors=\"coerce\")\n",
                "\n",
                "print(\"\\nInformación del DataFrame limpio:\")\n",
                "print(df_clean.info())\n",
                "print(\"\\nPrimeras 5 filas del DataFrame limpio:\")\n",
                "print(df_clean.head())\n",
                "\n",
                "\n"
            ]
        },
        {
            "cell_type": "code",
            "execution_count": 79,
            "metadata": {},
            "outputs": [
                {
                    "name": "stdout",
                    "output_type": "stream",
                    "text": [
                        "Encontradas: 100\n"
                    ]
                }
            ],
            "source": [
                "conn = sqlite3.connect(\"Spotify.db\")\n",
                "df_clean.to_sql(\"Mas Escuchados\", conn, if_exists=\"replace\", index=False)\n",
                "cursor = conn.cursor()\n",
                "cursor.execute(\"SELECT COUNT(*) FROM 'Mas Escuchados'\")\n",
                "print(\"Encontradas:\", cursor.fetchone()[0])\n",
                "\n",
                "conn.commit()\n",
                "conn.close()"
            ]
        },
        {
            "cell_type": "code",
            "execution_count": null,
            "metadata": {},
            "outputs": [
                {
                    "data": {
                        "image/png": "[encoded data removed]",
                        "text/plain": [
                            "<Figure size 2000x1000 with 1 Axes>"
                        ]
                    },
                    "metadata": {},
                    "output_type": "display_data"
                }
            ],
            "source": [
                "# GRAFICO DE BARRAS\n",
                "fig, ax = plt.subplots(figsize=(20, 10))\n",
                "y = df_clean[\"streams_(billions)\"].head(10)\n",
                "x = df_clean[\"song\"].head(10)\n",
                "palette = sns.color_palette('Set2', n_colors=len(x))\n",
                "ax.bar(x, y, color=palette, edgecolor='black')\n",
                "ax.set_title('Top 10 canciones más escuchadas en Spotify')\n",
                "ax.set_xlabel('songs')\n",
                "ax.set_ylabel('streams_(billions)')\n",
                "plt.show()\n",
                "\n",
                "# PERDON POR LA PALETA DE COLORES 😂"
            ]
        }
    ],
    "metadata": {
        "kernelspec": {
            "display_name": "Python 3",
            "language": "python",
            "name": "python3"
        },
        "language_info": {
            "codemirror_mode": {
                "name": "ipython",
                "version": 3
            },
            "file_extension": ".py",
            "mimetype": "text/x-python",
            "name": "python",
            "nbconvert_exporter": "python",
            "pygments_lexer": "ipython3",
            "version": "3.11.4"
        },
        "orig_nbformat": 4
    },
    "nbformat": 4,
    "nbformat_minor": 2
}
